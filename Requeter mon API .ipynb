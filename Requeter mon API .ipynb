{
 "cells": [
  {
   "cell_type": "code",
   "execution_count": 58,
   "metadata": {},
   "outputs": [],
   "source": [
    "import requests"
   ]
  },
  {
   "cell_type": "code",
   "execution_count": 64,
   "metadata": {},
   "outputs": [
    {
     "data": {
      "text/plain": [
       "{'text_user': 'Je suis vraiment content de cet article'}"
      ]
     },
     "execution_count": 64,
     "metadata": {},
     "output_type": "execute_result"
    }
   ],
   "source": [
    "route='/result'\n",
    "url='http://127.0.0.1:5000'+route\n",
    "\n",
    "param={'input_text':'Je suis vraiment content de cet article'}\n",
    "r=requests.post(url,data=param)\n",
    "r.json()"
   ]
  },
  {
   "cell_type": "code",
   "execution_count": 66,
   "metadata": {},
   "outputs": [
    {
     "data": {
      "text/plain": [
       "{'text_user': [1.0, 0.5697955026454994]}"
      ]
     },
     "execution_count": 66,
     "metadata": {},
     "output_type": "execute_result"
    }
   ],
   "source": [
    "route='/prediction'\n",
    "url='http://127.0.0.1:5000'+route\n",
    "\n",
    "param={'input_text':'Je suis vraiment content de cet article'}\n",
    "r1=requests.post(url,data=param)\n",
    "r1.json()"
   ]
  },
  {
   "cell_type": "code",
   "execution_count": 68,
   "metadata": {},
   "outputs": [
    {
     "data": {
      "text/plain": [
       "{'text_user': 0.8083832335329342}"
      ]
     },
     "execution_count": 68,
     "metadata": {},
     "output_type": "execute_result"
    }
   ],
   "source": [
    "route='/entrainement'\n",
    "url='http://127.0.0.1:5000'+route\n",
    "\n",
    "#param={'input_text':'Je suis vraiment content de cet article'}\n",
    "r1=requests.post(url)\n",
    "r1.json()"
   ]
  },
  {
   "cell_type": "code",
   "execution_count": null,
   "metadata": {},
   "outputs": [],
   "source": []
  }
 ],
 "metadata": {
  "kernelspec": {
   "display_name": "Python 3",
   "language": "python",
   "name": "python3"
  },
  "language_info": {
   "codemirror_mode": {
    "name": "ipython",
    "version": 3
   },
   "file_extension": ".py",
   "mimetype": "text/x-python",
   "name": "python",
   "nbconvert_exporter": "python",
   "pygments_lexer": "ipython3",
   "version": "3.8.2"
  }
 },
 "nbformat": 4,
 "nbformat_minor": 2
}
